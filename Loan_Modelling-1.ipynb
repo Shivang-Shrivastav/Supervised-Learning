{
 "cells": [
  {
   "cell_type": "code",
   "execution_count": 1,
   "metadata": {},
   "outputs": [],
   "source": [
    "import numpy as np\n",
    "import pandas as pd\n",
    "import seaborn as sns\n",
    "import matplotlib.pyplot as plt\n",
    "%matplotlib inline"
   ]
  },
  {
   "cell_type": "code",
   "execution_count": 2,
   "metadata": {},
   "outputs": [],
   "source": [
    "df=pd.read_csv('Bank_Personal_Loan_Modelling (1).csv')"
   ]
  },
  {
   "cell_type": "code",
   "execution_count": 3,
   "metadata": {},
   "outputs": [
    {
     "data": {
      "text/html": [
       "<div>\n",
       "<style scoped>\n",
       "    .dataframe tbody tr th:only-of-type {\n",
       "        vertical-align: middle;\n",
       "    }\n",
       "\n",
       "    .dataframe tbody tr th {\n",
       "        vertical-align: top;\n",
       "    }\n",
       "\n",
       "    .dataframe thead th {\n",
       "        text-align: right;\n",
       "    }\n",
       "</style>\n",
       "<table border=\"1\" class=\"dataframe\">\n",
       "  <thead>\n",
       "    <tr style=\"text-align: right;\">\n",
       "      <th></th>\n",
       "      <th>ID</th>\n",
       "      <th>Age</th>\n",
       "      <th>Experience</th>\n",
       "      <th>Income</th>\n",
       "      <th>ZIP Code</th>\n",
       "      <th>Family</th>\n",
       "      <th>CCAvg</th>\n",
       "      <th>Education</th>\n",
       "      <th>Mortgage</th>\n",
       "      <th>Personal Loan</th>\n",
       "      <th>Securities Account</th>\n",
       "      <th>CD Account</th>\n",
       "      <th>Online</th>\n",
       "      <th>CreditCard</th>\n",
       "    </tr>\n",
       "  </thead>\n",
       "  <tbody>\n",
       "    <tr>\n",
       "      <th>0</th>\n",
       "      <td>1</td>\n",
       "      <td>25</td>\n",
       "      <td>1</td>\n",
       "      <td>49</td>\n",
       "      <td>91107</td>\n",
       "      <td>4</td>\n",
       "      <td>1.6</td>\n",
       "      <td>1</td>\n",
       "      <td>0</td>\n",
       "      <td>0</td>\n",
       "      <td>1</td>\n",
       "      <td>0</td>\n",
       "      <td>0</td>\n",
       "      <td>0</td>\n",
       "    </tr>\n",
       "    <tr>\n",
       "      <th>1</th>\n",
       "      <td>2</td>\n",
       "      <td>45</td>\n",
       "      <td>19</td>\n",
       "      <td>34</td>\n",
       "      <td>90089</td>\n",
       "      <td>3</td>\n",
       "      <td>1.5</td>\n",
       "      <td>1</td>\n",
       "      <td>0</td>\n",
       "      <td>0</td>\n",
       "      <td>1</td>\n",
       "      <td>0</td>\n",
       "      <td>0</td>\n",
       "      <td>0</td>\n",
       "    </tr>\n",
       "    <tr>\n",
       "      <th>2</th>\n",
       "      <td>3</td>\n",
       "      <td>39</td>\n",
       "      <td>15</td>\n",
       "      <td>11</td>\n",
       "      <td>94720</td>\n",
       "      <td>1</td>\n",
       "      <td>1.0</td>\n",
       "      <td>1</td>\n",
       "      <td>0</td>\n",
       "      <td>0</td>\n",
       "      <td>0</td>\n",
       "      <td>0</td>\n",
       "      <td>0</td>\n",
       "      <td>0</td>\n",
       "    </tr>\n",
       "    <tr>\n",
       "      <th>3</th>\n",
       "      <td>4</td>\n",
       "      <td>35</td>\n",
       "      <td>9</td>\n",
       "      <td>100</td>\n",
       "      <td>94112</td>\n",
       "      <td>1</td>\n",
       "      <td>2.7</td>\n",
       "      <td>2</td>\n",
       "      <td>0</td>\n",
       "      <td>0</td>\n",
       "      <td>0</td>\n",
       "      <td>0</td>\n",
       "      <td>0</td>\n",
       "      <td>0</td>\n",
       "    </tr>\n",
       "    <tr>\n",
       "      <th>4</th>\n",
       "      <td>5</td>\n",
       "      <td>35</td>\n",
       "      <td>8</td>\n",
       "      <td>45</td>\n",
       "      <td>91330</td>\n",
       "      <td>4</td>\n",
       "      <td>1.0</td>\n",
       "      <td>2</td>\n",
       "      <td>0</td>\n",
       "      <td>0</td>\n",
       "      <td>0</td>\n",
       "      <td>0</td>\n",
       "      <td>0</td>\n",
       "      <td>1</td>\n",
       "    </tr>\n",
       "  </tbody>\n",
       "</table>\n",
       "</div>"
      ],
      "text/plain": [
       "   ID  Age  Experience  Income  ZIP Code  Family  CCAvg  Education  Mortgage  \\\n",
       "0   1   25           1      49     91107       4    1.6          1         0   \n",
       "1   2   45          19      34     90089       3    1.5          1         0   \n",
       "2   3   39          15      11     94720       1    1.0          1         0   \n",
       "3   4   35           9     100     94112       1    2.7          2         0   \n",
       "4   5   35           8      45     91330       4    1.0          2         0   \n",
       "\n",
       "   Personal Loan  Securities Account  CD Account  Online  CreditCard  \n",
       "0              0                   1           0       0           0  \n",
       "1              0                   1           0       0           0  \n",
       "2              0                   0           0       0           0  \n",
       "3              0                   0           0       0           0  \n",
       "4              0                   0           0       0           1  "
      ]
     },
     "execution_count": 3,
     "metadata": {},
     "output_type": "execute_result"
    }
   ],
   "source": [
    "df.head()"
   ]
  },
  {
   "cell_type": "code",
   "execution_count": 4,
   "metadata": {},
   "outputs": [
    {
     "data": {
      "text/plain": [
       "(5000, 14)"
      ]
     },
     "execution_count": 4,
     "metadata": {},
     "output_type": "execute_result"
    }
   ],
   "source": [
    "df.shape"
   ]
  },
  {
   "cell_type": "code",
   "execution_count": 5,
   "metadata": {},
   "outputs": [
    {
     "data": {
      "text/plain": [
       "ID                    0\n",
       "Age                   0\n",
       "Experience            0\n",
       "Income                0\n",
       "ZIP Code              0\n",
       "Family                0\n",
       "CCAvg                 0\n",
       "Education             0\n",
       "Mortgage              0\n",
       "Personal Loan         0\n",
       "Securities Account    0\n",
       "CD Account            0\n",
       "Online                0\n",
       "CreditCard            0\n",
       "dtype: int64"
      ]
     },
     "execution_count": 5,
     "metadata": {},
     "output_type": "execute_result"
    }
   ],
   "source": [
    "df.isnull().sum()"
   ]
  },
  {
   "cell_type": "markdown",
   "metadata": {},
   "source": [
    "<span style=\"color:green;font-weight:bold; font-size:2em\">2. Study the data distribution in each attribute, share your findings(15 marks)<span>\n"
   ]
  },
  {
   "cell_type": "code",
   "execution_count": 6,
   "metadata": {},
   "outputs": [
    {
     "data": {
      "image/png": "[encoded data removed]",
      "text/plain": [
       "<Figure size 1152x1080 with 14 Axes>"
      ]
     },
     "metadata": {
      "needs_background": "light"
     },
     "output_type": "display_data"
    }
   ],
   "source": [
    "fig=plt.figure(figsize=(16,15))\n",
    "columns=df.columns\n",
    "\n",
    "for x, i in zip(columns, range(len(columns))):\n",
    "    ax=fig.add_subplot(5,3,i+1)\n",
    "    sns.distplot(df[x], kde=False,)\n",
    "#     ax.set_title(x)"
   ]
  },
  {
   "cell_type": "code",
   "execution_count": 7,
   "metadata": {},
   "outputs": [
    {
     "data": {
      "text/html": [
       "<div>\n",
       "<style scoped>\n",
       "    .dataframe tbody tr th:only-of-type {\n",
       "        vertical-align: middle;\n",
       "    }\n",
       "\n",
       "    .dataframe tbody tr th {\n",
       "        vertical-align: top;\n",
       "    }\n",
       "\n",
       "    .dataframe thead th {\n",
       "        text-align: right;\n",
       "    }\n",
       "</style>\n",
       "<table border=\"1\" class=\"dataframe\">\n",
       "  <thead>\n",
       "    <tr style=\"text-align: right;\">\n",
       "      <th></th>\n",
       "      <th>ID</th>\n",
       "      <th>Age</th>\n",
       "      <th>Experience</th>\n",
       "      <th>Income</th>\n",
       "      <th>ZIP Code</th>\n",
       "      <th>Family</th>\n",
       "      <th>CCAvg</th>\n",
       "      <th>Education</th>\n",
       "      <th>Mortgage</th>\n",
       "      <th>Personal Loan</th>\n",
       "      <th>Securities Account</th>\n",
       "      <th>CD Account</th>\n",
       "      <th>Online</th>\n",
       "      <th>CreditCard</th>\n",
       "    </tr>\n",
       "  </thead>\n",
       "  <tbody>\n",
       "    <tr>\n",
       "      <th>count</th>\n",
       "      <td>5000.000000</td>\n",
       "      <td>5000.000000</td>\n",
       "      <td>5000.000000</td>\n",
       "      <td>5000.000000</td>\n",
       "      <td>5000.000000</td>\n",
       "      <td>5000.000000</td>\n",
       "      <td>5000.000000</td>\n",
       "      <td>5000.000000</td>\n",
       "      <td>5000.000000</td>\n",
       "      <td>5000.000000</td>\n",
       "      <td>5000.000000</td>\n",
       "      <td>5000.00000</td>\n",
       "      <td>5000.000000</td>\n",
       "      <td>5000.000000</td>\n",
       "    </tr>\n",
       "    <tr>\n",
       "      <th>mean</th>\n",
       "      <td>2500.500000</td>\n",
       "      <td>45.338400</td>\n",
       "      <td>20.104600</td>\n",
       "      <td>73.774200</td>\n",
       "      <td>93152.503000</td>\n",
       "      <td>2.396400</td>\n",
       "      <td>1.937938</td>\n",
       "      <td>1.881000</td>\n",
       "      <td>56.498800</td>\n",
       "      <td>0.096000</td>\n",
       "      <td>0.104400</td>\n",
       "      <td>0.06040</td>\n",
       "      <td>0.596800</td>\n",
       "      <td>0.294000</td>\n",
       "    </tr>\n",
       "    <tr>\n",
       "      <th>std</th>\n",
       "      <td>1443.520003</td>\n",
       "      <td>11.463166</td>\n",
       "      <td>11.467954</td>\n",
       "      <td>46.033729</td>\n",
       "      <td>2121.852197</td>\n",
       "      <td>1.147663</td>\n",
       "      <td>1.747659</td>\n",
       "      <td>0.839869</td>\n",
       "      <td>101.713802</td>\n",
       "      <td>0.294621</td>\n",
       "      <td>0.305809</td>\n",
       "      <td>0.23825</td>\n",
       "      <td>0.490589</td>\n",
       "      <td>0.455637</td>\n",
       "    </tr>\n",
       "    <tr>\n",
       "      <th>min</th>\n",
       "      <td>1.000000</td>\n",
       "      <td>23.000000</td>\n",
       "      <td>-3.000000</td>\n",
       "      <td>8.000000</td>\n",
       "      <td>9307.000000</td>\n",
       "      <td>1.000000</td>\n",
       "      <td>0.000000</td>\n",
       "      <td>1.000000</td>\n",
       "      <td>0.000000</td>\n",
       "      <td>0.000000</td>\n",
       "      <td>0.000000</td>\n",
       "      <td>0.00000</td>\n",
       "      <td>0.000000</td>\n",
       "      <td>0.000000</td>\n",
       "    </tr>\n",
       "    <tr>\n",
       "      <th>25%</th>\n",
       "      <td>1250.750000</td>\n",
       "      <td>35.000000</td>\n",
       "      <td>10.000000</td>\n",
       "      <td>39.000000</td>\n",
       "      <td>91911.000000</td>\n",
       "      <td>1.000000</td>\n",
       "      <td>0.700000</td>\n",
       "      <td>1.000000</td>\n",
       "      <td>0.000000</td>\n",
       "      <td>0.000000</td>\n",
       "      <td>0.000000</td>\n",
       "      <td>0.00000</td>\n",
       "      <td>0.000000</td>\n",
       "      <td>0.000000</td>\n",
       "    </tr>\n",
       "    <tr>\n",
       "      <th>50%</th>\n",
       "      <td>2500.500000</td>\n",
       "      <td>45.000000</td>\n",
       "      <td>20.000000</td>\n",
       "      <td>64.000000</td>\n",
       "      <td>93437.000000</td>\n",
       "      <td>2.000000</td>\n",
       "      <td>1.500000</td>\n",
       "      <td>2.000000</td>\n",
       "      <td>0.000000</td>\n",
       "      <td>0.000000</td>\n",
       "      <td>0.000000</td>\n",
       "      <td>0.00000</td>\n",
       "      <td>1.000000</td>\n",
       "      <td>0.000000</td>\n",
       "    </tr>\n",
       "    <tr>\n",
       "      <th>75%</th>\n",
       "      <td>3750.250000</td>\n",
       "      <td>55.000000</td>\n",
       "      <td>30.000000</td>\n",
       "      <td>98.000000</td>\n",
       "      <td>94608.000000</td>\n",
       "      <td>3.000000</td>\n",
       "      <td>2.500000</td>\n",
       "      <td>3.000000</td>\n",
       "      <td>101.000000</td>\n",
       "      <td>0.000000</td>\n",
       "      <td>0.000000</td>\n",
       "      <td>0.00000</td>\n",
       "      <td>1.000000</td>\n",
       "      <td>1.000000</td>\n",
       "    </tr>\n",
       "    <tr>\n",
       "      <th>max</th>\n",
       "      <td>5000.000000</td>\n",
       "      <td>67.000000</td>\n",
       "      <td>43.000000</td>\n",
       "      <td>224.000000</td>\n",
       "      <td>96651.000000</td>\n",
       "      <td>4.000000</td>\n",
       "      <td>10.000000</td>\n",
       "      <td>3.000000</td>\n",
       "      <td>635.000000</td>\n",
       "      <td>1.000000</td>\n",
       "      <td>1.000000</td>\n",
       "      <td>1.00000</td>\n",
       "      <td>1.000000</td>\n",
       "      <td>1.000000</td>\n",
       "    </tr>\n",
       "  </tbody>\n",
       "</table>\n",
       "</div>"
      ],
      "text/plain": [
       "                ID          Age   Experience       Income      ZIP Code  \\\n",
       "count  5000.000000  5000.000000  5000.000000  5000.000000   5000.000000   \n",
       "mean   2500.500000    45.338400    20.104600    73.774200  93152.503000   \n",
       "std    1443.520003    11.463166    11.467954    46.033729   2121.852197   \n",
       "min       1.000000    23.000000    -3.000000     8.000000   9307.000000   \n",
       "25%    1250.750000    35.000000    10.000000    39.000000  91911.000000   \n",
       "50%    2500.500000    45.000000    20.000000    64.000000  93437.000000   \n",
       "75%    3750.250000    55.000000    30.000000    98.000000  94608.000000   \n",
       "max    5000.000000    67.000000    43.000000   224.000000  96651.000000   \n",
       "\n",
       "            Family        CCAvg    Education     Mortgage  Personal Loan  \\\n",
       "count  5000.000000  5000.000000  5000.000000  5000.000000    5000.000000   \n",
       "mean      2.396400     1.937938     1.881000    56.498800       0.096000   \n",
       "std       1.147663     1.747659     0.839869   101.713802       0.294621   \n",
       "min       1.000000     0.000000     1.000000     0.000000       0.000000   \n",
       "25%       1.000000     0.700000     1.000000     0.000000       0.000000   \n",
       "50%       2.000000     1.500000     2.000000     0.000000       0.000000   \n",
       "75%       3.000000     2.500000     3.000000   101.000000       0.000000   \n",
       "max       4.000000    10.000000     3.000000   635.000000       1.000000   \n",
       "\n",
       "       Securities Account  CD Account       Online   CreditCard  \n",
       "count         5000.000000  5000.00000  5000.000000  5000.000000  \n",
       "mean             0.104400     0.06040     0.596800     0.294000  \n",
       "std              0.305809     0.23825     0.490589     0.455637  \n",
       "min              0.000000     0.00000     0.000000     0.000000  \n",
       "25%              0.000000     0.00000     0.000000     0.000000  \n",
       "50%              0.000000     0.00000     1.000000     0.000000  \n",
       "75%              0.000000     0.00000     1.000000     1.000000  \n",
       "max              1.000000     1.00000     1.000000     1.000000  "
      ]
     },
     "execution_count": 7,
     "metadata": {},
     "output_type": "execute_result"
    }
   ],
   "source": [
    "df.describe()"
   ]
  },
  {
   "cell_type": "code",
   "execution_count": 8,
   "metadata": {},
   "outputs": [
    {
     "data": {
      "image/png": "[encoded data removed]",
      "text/plain": [
       "<Figure size 1152x1080 with 14 Axes>"
      ]
     },
     "metadata": {
      "needs_background": "light"
     },
     "output_type": "display_data"
    }
   ],
   "source": [
    "fig=plt.figure(figsize=(16,15))\n",
    "columns=df.columns\n",
    "\n",
    "for x, i in zip(columns, range(len(columns))):\n",
    "    ax=fig.add_subplot(5,3,i+1)\n",
    "    df.boxplot(x)"
   ]
  },
  {
   "cell_type": "markdown",
   "metadata": {},
   "source": [
    "##### 1. ID - ID is the identification number for each person and it doesnot hold any informational value.\n",
    "##### 2. Age - As we can see from the graph, \"Age\" column is normally distributed. Most of the persons are between the age range 30 to 60. There seems to be no outliers.\n",
    "##### 3. Experience - This column also seems to be perfectly normally distributed with seemingly no outliers.\n",
    "##### 4. Income - As we can see from BOXPLOT graph, there a presence of outliers which make this column rightly skewed .From descriptive statistices we notice that 75% of the income is at 98K and max is at 224K which shows high skewness in income distribution.\n",
    "##### 5. ZIP Code - ZIP Code column can have informational value as there can be correlation between the area of living and possibility of good income and EMI paying capability and hence higher probability of accepting the loan offer.\n",
    "##### 6. Family - The number of family members can play a role in determining the chances of accepting the offer as the need for fund can be more. The number of family members is between 1000 - 1500 with **Number of family members = 1000** being the lowest.\n",
    "##### 7. CCAvg - 75% of the CCAvg value is at  2500 Dollar per  month and max value is  10k Dollar per month. This column shows high skewness on right side of distribution.\n",
    "##### 8. Education - 3 being the highest Education and 1 being the lowest education level, we can see that around 40 percentage of the people are at the lowest education level and only 25 percentage of the people are at the highest education level.\n",
    "##### 9. Mortgage - From the BOXPLOT it can be seen that around 80 percentage of people have zero or near to zero house mortgage value. But 20 percentage of the people have high values of house mortage and values go to as high as 635k dollars. This makes this column super highly skewed having lot of outliers.\n",
    "##### 10. Personal Loan - This columns indicates that how much percentage of people accepted the offer last time and as we can see from the graph, only minuscle proportion of people accepted the offer.\n",
    "##### 11. Securities Amount - Only small portion of people have Securities Account in Bank and the proportion of people who have securities account in bank is in line with people who accepted the offer last year, not necessarily that same people accepted the offer.\n",
    "##### 12. CD Account - Lesser number of people surveyed last year had CD account in bank as compared to the securities account in BanK.\n",
    "##### 13. Online - From the distribution graph it can be seen that around 60 percentage of the people use banking facilities.\n",
    "##### 14. Credit Card - From the distribution graph it can be seen that around 80 percentage of the people use Credit Card issued by the bank."
   ]
  },
  {
   "cell_type": "markdown",
   "metadata": {},
   "source": [
    "<span style=\"color:green;font-weight:bold; font-size:2em\">3. Get the target column distribution. Your comments (5 marks)<span>"
   ]
  },
  {
   "cell_type": "code",
   "execution_count": 9,
   "metadata": {},
   "outputs": [
    {
     "data": {
      "text/plain": [
       "<AxesSubplot:xlabel='Personal Loan'>"
      ]
     },
     "execution_count": 9,
     "metadata": {},
     "output_type": "execute_result"
    },
    {
     "data": {
      "image/png": "[encoded data removed]",
      "text/plain": [
       "<Figure size 432x288 with 1 Axes>"
      ]
     },
     "metadata": {
      "needs_background": "light"
     },
     "output_type": "display_data"
    }
   ],
   "source": [
    " sns.distplot(df['Personal Loan'], kde=False,)"
   ]
  },
  {
   "cell_type": "code",
   "execution_count": 10,
   "metadata": {},
   "outputs": [
    {
     "name": "stdout",
     "output_type": "stream",
     "text": [
      "Percentage of people for which loans were given: 0.096 \n",
      "Percentage of people for which loans were not given:0.904 \n"
     ]
    }
   ],
   "source": [
    "loan_given=len(df[df['Personal Loan']==1])\n",
    "loan_not_given=len(df[df['Personal Loan']==0])\n",
    "\n",
    "print(f\"Percentage of people for which loans were given: {(loan_given)/len(df)} \") \n",
    "print(f\"Percentage of people for which loans were not given:{(loan_not_given)/len(df)} \")  "
   ]
  },
  {
   "cell_type": "markdown",
   "metadata": {},
   "source": [
    "<span style=\"color:red; font-weight:bold;\">Comment -<span>\n",
    "\n",
    "<span style=\"color:red; font-weight:bold;\">From the above we can see that only 9.6% of the people last year accepted the offer.<span>\n",
    "    \n",
    "    \n",
    "<span style=\"color:red; font-weight:bold;\">Offer acceptance is highly imbalanced.<span>\n"
   ]
  },
  {
   "cell_type": "markdown",
   "metadata": {},
   "source": [
    "<span style=\"color:green;font-weight:bold; font-size:2em\">4. Split the data into training and test set in the ratio of 70:30 respectively (5 marks)<span>"
   ]
  },
  {
   "cell_type": "code",
   "execution_count": 11,
   "metadata": {},
   "outputs": [],
   "source": [
    "X = df.drop(['Personal Loan', 'ID'], axis=1)\n",
    "y=df['Personal Loan']"
   ]
  },
  {
   "cell_type": "code",
   "execution_count": 12,
   "metadata": {},
   "outputs": [],
   "source": [
    "from sklearn.model_selection import train_test_split\n",
    "\n",
    "x_train,x_test,y_train,y_test=train_test_split(X,y,test_size=0.3, random_state = 1)\n"
   ]
  },
  {
   "cell_type": "markdown",
   "metadata": {},
   "source": [
    "<span style=\"color:green;font-weight:bold; font-size:2em\"> 5. Use different classification models (Logistic, K-NN and Naïve Bayes) to predict the likelihood of a customer buying personal loans (15 marks)<span>\n",
    "    \n",
    "    \n",
    "<span style=\"color:green;font-weight:bold; font-size:2em\">  6. Print the confusion matrix for all the above models (5 marks)<span>"
   ]
  },
  {
   "cell_type": "markdown",
   "metadata": {},
   "source": [
    " <span style=\"color:red; font-size:2em\">**Logistic Regression Model**<span>"
   ]
  },
  {
   "cell_type": "code",
   "execution_count": 13,
   "metadata": {},
   "outputs": [
    {
     "name": "stdout",
     "output_type": "stream",
     "text": [
      "          0        1         2         3         4         5         6  \\\n",
      "0 -0.000528 -0.00201  0.036089 -0.000066  0.015165  0.009454  0.016447   \n",
      "\n",
      "          7         8         9        10        11  intercept  \n",
      "0  0.000833  0.000534  0.004681 -0.000177 -0.000067  -0.000106  \n"
     ]
    }
   ],
   "source": [
    "from sklearn import metrics\n",
    "from sklearn.linear_model import LogisticRegression\n",
    "\n",
    "model=LogisticRegression(solver='liblinear')\n",
    "model.fit(x_train,y_train)\n",
    "y_predict=model.predict(x_test)\n",
    "\n",
    "coef_df = pd.DataFrame(model.coef_)\n",
    "coef_df['intercept']=model.intercept_\n",
    "\n",
    "print(coef_df)"
   ]
  },
  {
   "cell_type": "code",
   "execution_count": 14,
   "metadata": {},
   "outputs": [
    {
     "name": "stdout",
     "output_type": "stream",
     "text": [
      "0.9091428571428571\n",
      "0.9073333333333333\n"
     ]
    }
   ],
   "source": [
    "print(model.score(x_train, y_train))\n",
    "print(model.score(x_test, y_test))"
   ]
  },
  {
   "cell_type": "markdown",
   "metadata": {},
   "source": [
    "<span style=\"color:red; font-size:1em\"> **>> We have predicted the likelihood of a customer buying personal loan.**<span>\n",
    "    \n",
    " <span style=\"color:red; font-size:1em\">**>> The training accuracy for Logistic Regression Model is=> 90.9%**<span>\n",
    "     \n",
    " <span style=\"color:red; font-size:1em\">**>> The test accuracy for Logistic Regression Model is => 90.7%**<span>"
   ]
  },
  {
   "cell_type": "code",
   "execution_count": 15,
   "metadata": {},
   "outputs": [
    {
     "data": {
      "text/plain": [
       "<AxesSubplot:>"
      ]
     },
     "execution_count": 15,
     "metadata": {},
     "output_type": "execute_result"
    },
    {
     "data": {
      "image/png": "[encoded data removed]",
      "text/plain": [
       "<Figure size 504x360 with 2 Axes>"
      ]
     },
     "metadata": {
      "needs_background": "light"
     },
     "output_type": "display_data"
    }
   ],
   "source": [
    "cm=metrics.confusion_matrix(y_test, y_predict, labels=[1, 0])\n",
    "\n",
    "df_cm = pd.DataFrame(cm, index = [i for i in [\"1\",\"0\"]],\n",
    "                  columns = [i for i in [\"Predict 1\",\"Predict 0\"]])\n",
    "plt.figure(figsize = (7,5))\n",
    "sns.heatmap(df_cm, annot=True)\n"
   ]
  },
  {
   "cell_type": "code",
   "execution_count": 16,
   "metadata": {},
   "outputs": [
    {
     "name": "stdout",
     "output_type": "stream",
     "text": [
      "   Predict 1  Predict 0\n",
      "1         43        106\n",
      "0         33       1318\n"
     ]
    }
   ],
   "source": [
    "print(df_cm)"
   ]
  },
  {
   "cell_type": "markdown",
   "metadata": {},
   "source": [
    "<span style=\"color:red; font-size:1.5em\">**Above is the Confusion Matrix for Logistic Regression Model**<span>"
   ]
  },
  {
   "cell_type": "markdown",
   "metadata": {},
   "source": [
    " <span style=\"color:red; font-size:2em\">**Naive Bayes' Model**<span>"
   ]
  },
  {
   "cell_type": "code",
   "execution_count": 17,
   "metadata": {},
   "outputs": [
    {
     "data": {
      "text/plain": [
       "GaussianNB()"
      ]
     },
     "execution_count": 17,
     "metadata": {},
     "output_type": "execute_result"
    }
   ],
   "source": [
    "from sklearn.naive_bayes import GaussianNB\n",
    "\n",
    "nb_model=GaussianNB()\n",
    "nb_model.fit(x_train,y_train)\n"
   ]
  },
  {
   "cell_type": "code",
   "execution_count": 18,
   "metadata": {},
   "outputs": [
    {
     "data": {
      "text/plain": [
       "0.8942857142857142"
      ]
     },
     "execution_count": 18,
     "metadata": {},
     "output_type": "execute_result"
    }
   ],
   "source": [
    "y_predict=nb_model.predict(x_train)\n",
    "train_accuracy=metrics.accuracy_score(y_train,y_predict)\n",
    "train_accuracy"
   ]
  },
  {
   "cell_type": "code",
   "execution_count": 19,
   "metadata": {},
   "outputs": [
    {
     "data": {
      "text/plain": [
       "0.884"
      ]
     },
     "execution_count": 19,
     "metadata": {},
     "output_type": "execute_result"
    }
   ],
   "source": [
    "y_test_predict=nb_model.predict(x_test)\n",
    "test_accuracy=metrics.accuracy_score(y_test,y_test_predict)\n",
    "test_accuracy"
   ]
  },
  {
   "cell_type": "code",
   "execution_count": 20,
   "metadata": {},
   "outputs": [
    {
     "name": "stdout",
     "output_type": "stream",
     "text": [
      "0.8942857142857142\n",
      "0.884\n"
     ]
    }
   ],
   "source": [
    "print(nb_model.score(x_train, y_train))\n",
    "print(nb_model.score(x_test, y_test))"
   ]
  },
  {
   "cell_type": "markdown",
   "metadata": {},
   "source": [
    "<span style=\"color:red; font-size:1em\"> **>> We have predicted the likelihood of a customer buying personal loan.**<span>\n",
    "    \n",
    " <span style=\"color:red; font-size:1em\">**>> The training accuracy for Naive Bayes' Model is=> 89.4%**<span>\n",
    "     \n",
    " <span style=\"color:red; font-size:1em\">**>> The test accuracy for Naive Bayes' Model is => 88.4%**<span>"
   ]
  },
  {
   "cell_type": "code",
   "execution_count": 21,
   "metadata": {},
   "outputs": [
    {
     "data": {
      "text/plain": [
       "<AxesSubplot:>"
      ]
     },
     "execution_count": 21,
     "metadata": {},
     "output_type": "execute_result"
    },
    {
     "data": {
      "image/png": "[encoded data removed]",
      "text/plain": [
       "<Figure size 504x360 with 2 Axes>"
      ]
     },
     "metadata": {
      "needs_background": "light"
     },
     "output_type": "display_data"
    }
   ],
   "source": [
    "nb_cm=metrics.confusion_matrix(y_test, y_test_predict, labels=[1, 0])\n",
    "\n",
    "nb_df_cm = pd.DataFrame(nb_cm, index = [i for i in [\"1\",\"0\"]],\n",
    "                  columns = [i for i in [\"Predict 1\",\"Predict 0\"]])\n",
    "plt.figure(figsize = (7,5))\n",
    "sns.heatmap(nb_df_cm, annot=True)"
   ]
  },
  {
   "cell_type": "code",
   "execution_count": 22,
   "metadata": {},
   "outputs": [
    {
     "name": "stdout",
     "output_type": "stream",
     "text": [
      "   Predict 1  Predict 0\n",
      "1         85         64\n",
      "0        110       1241\n"
     ]
    }
   ],
   "source": [
    "print(nb_df_cm)"
   ]
  },
  {
   "cell_type": "markdown",
   "metadata": {},
   "source": [
    "<span style=\"color:red; font-size:1.5em\">**Above is the Confusion Matrix for Naive Bayes' Model**<span>"
   ]
  },
  {
   "cell_type": "markdown",
   "metadata": {},
   "source": [
    "<span style=\"color:red; font-size:2em\">**KNN**<span>"
   ]
  },
  {
   "cell_type": "code",
   "execution_count": 23,
   "metadata": {},
   "outputs": [],
   "source": [
    "# Finding the best value of K for good accuracy\n",
    "\n",
    "from sklearn.neighbors import KNeighborsClassifier\n",
    "scores =[]\n",
    "for k in range(1,50):\n",
    "    NNH_train = KNeighborsClassifier(n_neighbors = k, weights = 'distance' )\n",
    "    NNH_train.fit(x_train, y_train)\n",
    "    scores.append(NNH_train.score(x_test, y_test))\n",
    "    \n"
   ]
  },
  {
   "cell_type": "code",
   "execution_count": 24,
   "metadata": {},
   "outputs": [
    {
     "data": {
      "text/plain": [
       "[<matplotlib.lines.Line2D at 0x21d4edf8488>]"
      ]
     },
     "execution_count": 24,
     "metadata": {},
     "output_type": "execute_result"
    },
    {
     "data": {
      "image/png": "[encoded data removed]",
      "text/plain": [
       "<Figure size 432x288 with 1 Axes>"
      ]
     },
     "metadata": {
      "needs_background": "light"
     },
     "output_type": "display_data"
    }
   ],
   "source": [
    "plt.plot(range(1,50),scores)"
   ]
  },
  {
   "cell_type": "code",
   "execution_count": 25,
   "metadata": {},
   "outputs": [
    {
     "data": {
      "text/plain": [
       "KNeighborsClassifier(n_neighbors=29, weights='distance')"
      ]
     },
     "execution_count": 25,
     "metadata": {},
     "output_type": "execute_result"
    }
   ],
   "source": [
    "NNH = KNeighborsClassifier(n_neighbors = 29, weights = 'distance' )\n",
    "NNH.fit(x_train, y_train)"
   ]
  },
  {
   "cell_type": "code",
   "execution_count": 26,
   "metadata": {},
   "outputs": [],
   "source": [
    "KNN_predicted_labels = NNH.predict(x_test)"
   ]
  },
  {
   "cell_type": "code",
   "execution_count": 27,
   "metadata": {},
   "outputs": [
    {
     "name": "stdout",
     "output_type": "stream",
     "text": [
      "1.0\n",
      "0.9026666666666666\n"
     ]
    }
   ],
   "source": [
    "print(NNH.score(x_train, y_train))\n",
    "print(NNH.score(x_test, y_test))"
   ]
  },
  {
   "cell_type": "markdown",
   "metadata": {},
   "source": [
    "<span style=\"color:red; font-size:1em\"> **>> We have predicted the likelihood of a customer buying personal loan.**<span>\n",
    "    \n",
    " <span style=\"color:red; font-size:1em\">**>> The training accuracy for Naive Bayes' Model is=> 100%**<span>\n",
    "     \n",
    " <span style=\"color:red; font-size:1em\">**>> The test accuracy for Naive Bayes' Model is => 90.26%**<span>"
   ]
  },
  {
   "cell_type": "code",
   "execution_count": 28,
   "metadata": {},
   "outputs": [
    {
     "data": {
      "text/plain": [
       "<AxesSubplot:>"
      ]
     },
     "execution_count": 28,
     "metadata": {},
     "output_type": "execute_result"
    },
    {
     "data": {
      "image/png": "[encoded data removed]",
      "text/plain": [
       "<Figure size 504x360 with 2 Axes>"
      ]
     },
     "metadata": {
      "needs_background": "light"
     },
     "output_type": "display_data"
    }
   ],
   "source": [
    "from sklearn import metrics\n",
    "KNN_cm=metrics.confusion_matrix(y_test, KNN_predicted_labels, labels=[1,0])\n",
    "\n",
    "KNN_df_cm = pd.DataFrame(KNN_cm, index = [i for i in [\"1\",\"0\"]],\n",
    "                  columns = [i for i in [\"Predict 1\",\"Predict 0\"]])\n",
    "plt.figure(figsize = (7,5))\n",
    "sns.heatmap(KNN_df_cm, annot=True)"
   ]
  },
  {
   "cell_type": "code",
   "execution_count": 29,
   "metadata": {},
   "outputs": [
    {
     "name": "stdout",
     "output_type": "stream",
     "text": [
      "   Predict 1  Predict 0\n",
      "1          5        144\n",
      "0          2       1349\n"
     ]
    }
   ],
   "source": [
    "print(KNN_df_cm)"
   ]
  },
  {
   "cell_type": "markdown",
   "metadata": {},
   "source": [
    "<span style=\"color:red; font-size:1.5em\">**Above is the Confusion Matrix for KNN Model**<span>"
   ]
  },
  {
   "cell_type": "markdown",
   "metadata": {},
   "source": [
    "<span style=\"color:green;font-weight:bold; font-size:2em\"> 7. Give your reasoning on which is the best model in this case and why it performs better? (5 marks)<span>"
   ]
  },
  {
   "cell_type": "code",
   "execution_count": 30,
   "metadata": {},
   "outputs": [],
   "source": [
    "# Let us put Confusion Matrix of all the three models together for comparison of models.\n",
    "# Initialising lists with models and model names.\n",
    "\n",
    "models=[LogisticRegression(solver='liblinear'),GaussianNB(),KNeighborsClassifier(n_neighbors = 29, weights = 'distance' )]\n",
    "model_names=['LR','NB','KNN']\n",
    "\n",
    "CM=[]             # Set the confusion matrix to empty list for appending all 3 confusion matrix\n",
    "\n",
    "Recall=[]        # Setting the parameters to empty list for appending the values for all 3 models.\n",
    "Specificity=[]\n",
    "Accuracy=[]\n",
    "Precision=[]\n",
    "Neg_Pred_value=[]\n",
    "F1_Score=[]\n",
    "\n",
    "TPs=[]\n",
    "FPs=[]\n",
    "TNs=[]\n",
    "FNs=[]"
   ]
  },
  {
   "cell_type": "code",
   "execution_count": 31,
   "metadata": {},
   "outputs": [],
   "source": [
    "# Applying FOR-LOOP for calculating confusion matrix & Calculating matrix parameters.\n",
    "\n",
    "for x,model in zip(model_names, models):\n",
    "    \n",
    "    model.fit(x_train,y_train)\n",
    "    \n",
    "    y_predict  = model.predict(x_test)\n",
    "    \n",
    "    \n",
    "    confusion_matrix=metrics.confusion_matrix(y_test, y_predict, labels=[1, 0])\n",
    "    cm = pd.DataFrame(confusion_matrix, index = [i for i in [\"1\",\"0\"]],\n",
    "                  columns = [i for i in [x+\"_Predict 1\",x+\"_Predict 0\"]])\n",
    "    CM.append(cm)\n",
    "           \n",
    "    TP = cm.iloc[0,0]\n",
    "    FP= cm.iloc[1,0]\n",
    "    TN = cm.iloc[1,1]\n",
    "    FN= cm.iloc[0,1]\n",
    "    \n",
    "    TPs.append(TP)\n",
    "    FPs.append(FP)\n",
    "    TNs.append(TN)\n",
    "    FNs.append(FN)\n",
    "    \n",
    "    Recall.append(TP/(TP+FN))\n",
    "    Specificity.append(TN/(TN+FP))\n",
    "    Accuracy.append((TP+TN)/(TP+TN+FP+FN))\n",
    "    Precision.append(TP/(TP+FP))\n",
    "    Neg_Pred_value.append(TN/(TN+FN))\n",
    "    "
   ]
  },
  {
   "cell_type": "code",
   "execution_count": 32,
   "metadata": {},
   "outputs": [
    {
     "data": {
      "text/html": [
       "<div>\n",
       "<style scoped>\n",
       "    .dataframe tbody tr th:only-of-type {\n",
       "        vertical-align: middle;\n",
       "    }\n",
       "\n",
       "    .dataframe tbody tr th {\n",
       "        vertical-align: top;\n",
       "    }\n",
       "\n",
       "    .dataframe thead th {\n",
       "        text-align: right;\n",
       "    }\n",
       "</style>\n",
       "<table border=\"1\" class=\"dataframe\">\n",
       "  <thead>\n",
       "    <tr style=\"text-align: right;\">\n",
       "      <th></th>\n",
       "      <th>LR_Predict 1</th>\n",
       "      <th>LR_Predict 0</th>\n",
       "      <th>NB_Predict 1</th>\n",
       "      <th>NB_Predict 0</th>\n",
       "      <th>KNN_Predict 1</th>\n",
       "      <th>KNN_Predict 0</th>\n",
       "    </tr>\n",
       "  </thead>\n",
       "  <tbody>\n",
       "    <tr>\n",
       "      <th>1</th>\n",
       "      <td>43</td>\n",
       "      <td>106</td>\n",
       "      <td>85</td>\n",
       "      <td>64</td>\n",
       "      <td>5</td>\n",
       "      <td>144</td>\n",
       "    </tr>\n",
       "    <tr>\n",
       "      <th>0</th>\n",
       "      <td>33</td>\n",
       "      <td>1318</td>\n",
       "      <td>110</td>\n",
       "      <td>1241</td>\n",
       "      <td>2</td>\n",
       "      <td>1349</td>\n",
       "    </tr>\n",
       "  </tbody>\n",
       "</table>\n",
       "</div>"
      ],
      "text/plain": [
       "   LR_Predict 1  LR_Predict 0  NB_Predict 1  NB_Predict 0  KNN_Predict 1  \\\n",
       "1            43           106            85            64              5   \n",
       "0            33          1318           110          1241              2   \n",
       "\n",
       "   KNN_Predict 0  \n",
       "1            144  \n",
       "0           1349  "
      ]
     },
     "execution_count": 32,
     "metadata": {},
     "output_type": "execute_result"
    }
   ],
   "source": [
    "# Calculation F1 Score using list of Precison & Recall.\n",
    "for i,j in zip(Precision, Recall):\n",
    "    f1_score=2*((i*j)/(i+j))\n",
    "    F1_Score.append(f1_score)\n",
    "    \n",
    "CM_Main=pd.concat(CM,axis=1)  # Printing the CM of all three models.\n",
    "CM_Main\n",
    "\n"
   ]
  },
  {
   "cell_type": "code",
   "execution_count": 33,
   "metadata": {},
   "outputs": [
    {
     "data": {
      "text/html": [
       "<div>\n",
       "<style scoped>\n",
       "    .dataframe tbody tr th:only-of-type {\n",
       "        vertical-align: middle;\n",
       "    }\n",
       "\n",
       "    .dataframe tbody tr th {\n",
       "        vertical-align: top;\n",
       "    }\n",
       "\n",
       "    .dataframe thead th {\n",
       "        text-align: right;\n",
       "    }\n",
       "</style>\n",
       "<table border=\"1\" class=\"dataframe\">\n",
       "  <thead>\n",
       "    <tr style=\"text-align: right;\">\n",
       "      <th></th>\n",
       "      <th>TPs</th>\n",
       "      <th>FNs</th>\n",
       "      <th>TNs</th>\n",
       "      <th>FPs</th>\n",
       "      <th>Recall</th>\n",
       "      <th>Specificity</th>\n",
       "      <th>Accuracy</th>\n",
       "      <th>Precision</th>\n",
       "      <th>Neg_Pred_value</th>\n",
       "      <th>F1_Score</th>\n",
       "    </tr>\n",
       "  </thead>\n",
       "  <tbody>\n",
       "    <tr>\n",
       "      <th>Logistic Regression</th>\n",
       "      <td>43</td>\n",
       "      <td>106</td>\n",
       "      <td>1318</td>\n",
       "      <td>33</td>\n",
       "      <td>0.288591</td>\n",
       "      <td>0.975574</td>\n",
       "      <td>0.907333</td>\n",
       "      <td>0.565789</td>\n",
       "      <td>0.925562</td>\n",
       "      <td>0.382222</td>\n",
       "    </tr>\n",
       "    <tr>\n",
       "      <th>Naive Bayes</th>\n",
       "      <td>85</td>\n",
       "      <td>64</td>\n",
       "      <td>1241</td>\n",
       "      <td>110</td>\n",
       "      <td>0.570470</td>\n",
       "      <td>0.918579</td>\n",
       "      <td>0.884000</td>\n",
       "      <td>0.435897</td>\n",
       "      <td>0.950958</td>\n",
       "      <td>0.494186</td>\n",
       "    </tr>\n",
       "    <tr>\n",
       "      <th>KNN</th>\n",
       "      <td>5</td>\n",
       "      <td>144</td>\n",
       "      <td>1349</td>\n",
       "      <td>2</td>\n",
       "      <td>0.033557</td>\n",
       "      <td>0.998520</td>\n",
       "      <td>0.902667</td>\n",
       "      <td>0.714286</td>\n",
       "      <td>0.903550</td>\n",
       "      <td>0.064103</td>\n",
       "    </tr>\n",
       "  </tbody>\n",
       "</table>\n",
       "</div>"
      ],
      "text/plain": [
       "                     TPs  FNs   TNs  FPs    Recall  Specificity  Accuracy  \\\n",
       "Logistic Regression   43  106  1318   33  0.288591     0.975574  0.907333   \n",
       "Naive Bayes           85   64  1241  110  0.570470     0.918579  0.884000   \n",
       "KNN                    5  144  1349    2  0.033557     0.998520  0.902667   \n",
       "\n",
       "                     Precision  Neg_Pred_value  F1_Score  \n",
       "Logistic Regression   0.565789        0.925562  0.382222  \n",
       "Naive Bayes           0.435897        0.950958  0.494186  \n",
       "KNN                   0.714286        0.903550  0.064103  "
      ]
     },
     "execution_count": 33,
     "metadata": {},
     "output_type": "execute_result"
    }
   ],
   "source": [
    "# Zipping lists of all the parameters to form the DataFrame for better comparions of all 3 models.\n",
    "data_tuples = list(zip(TPs,FNs,TNs,FPs,Recall,Specificity,Accuracy,Precision,Neg_Pred_value,F1_Score))\n",
    "df1=pd.DataFrame(data_tuples,index=['Logistic Regression','Naive Bayes','KNN'],\n",
    "               columns=['TPs','FNs','TNs','FPs','Recall','Specificity','Accuracy','Precision','Neg_Pred_value','F1_Score'])\n",
    "df1"
   ]
  },
  {
   "cell_type": "markdown",
   "metadata": {},
   "source": [
    "##### To interpret the models we need to first understand what is our requirement and accordingly what do we need from model.\n",
    "##### We need to find the likelihood of a customer accepting the loan offer. \n",
    "##### But likelihood of a customer accepting the loan offer depends on the customer's assessment of his ability to pay the EMI of the loan.\n",
    "##### Hence, Customer's EMI paying capacity will determine his likelihood of accepting the loan offer.\n",
    "##### It is fine as far as model predicts true values. We need to check to how much extent the model is predicting false values.\n",
    "  **>>There two types of false values: False Positives & False Negatives**\n",
    "  \n",
    "<span style=\"color:purple; font-weight:bold;\">>>TPs -Acceptance of offer is predicted & customer accepts the offer -- means the customer has assessed that he has good emi paying capacity<span>.\n",
    "    \n",
    "<span style=\"color:purple; font-weight:bold;\">>>FPs - Acceptance of offer is predicted & customer does not accept the offer - means the customer has assessed that he does not have good EMI paying capacity.<span>\n",
    "    \n",
    "<span style=\"color:purple; font-weight:bold;\">>>FNs -No Acceptance of offer is predicted & customer has the capacity to pay the emi and wants emi. - Opportunity Loss<span>\n",
    "    \n",
    "<span style=\"color:purple; font-weight:bold;\">>>TNs - No Acceptance of offer is predicted & Customer also does not have the ability to pay the EMI and hence does not want the offer.<span>"
   ]
  },
  {
   "cell_type": "markdown",
   "metadata": {},
   "source": [
    "<span style=\"color:purple; font-weight:bold;\">>> This means we need to minimise the False Positive values as Falsely giving the offer to a customer who does not have the EMI paying capacity may result in NPAs for bank. <span>"
   ]
  },
  {
   "cell_type": "markdown",
   "metadata": {},
   "source": [
    " 1. **False Negatives** are lost opportunities. The cost of lost opportunities is a small amount of       interest charged on loan.\n",
    " 2. **False Postitives** are predicting the customer will accept the offer and in reality cutomer has not accepted the offer. This happens when customer has assessed that he cannot pay the EMI and hence **FALSE POSITIVES** are heavy cost of extending offer to wrong people and Banks need to avoid\n",
    "the heavy cost to reduce the NPAs. **This is because if a customer defaults entire loan amount is to be written off from the bank's profits.**\n",
    " 3. Hence there is a **trade-off** between **forgone opportunies of small amount of interest charged on loan and heavy cost of NPAs.**"
   ]
  },
  {
   "cell_type": "markdown",
   "metadata": {},
   "source": [
    "<span style=\"color:blue; font-weight:bold;\"> Conclusion:- It is important to select a model which minimizes both on False Positives & False Negatives. But practically it may not be possible to minimize both together. We have to pick either FPs or FNs to minimize more.<span>\n",
    "    \n",
    "<span style=\"color:blue; font-weight:bold;\">Here, we will pick a model which minimizes False Positives. FP means:- Acceptance of offer is predicted by model and the customer does not accept the offer.<span>\n",
    "    \n",
    "<span style=\"color:blue; font-weight:bold;\">Note that ideally model should not predict likelihood of acceptance of offer by the customer when customer does not accept the offer. This non acceptance of offer by customer may be due to his assessment of his ability to not be able to pay the EMI<span>\n",
    "    \n",
    "    \n",
    "### Hence False Positive(FP) is the error we need to reduce"
   ]
  },
  {
   "cell_type": "code",
   "execution_count": 34,
   "metadata": {},
   "outputs": [
    {
     "data": {
      "text/html": [
       "<div>\n",
       "<style scoped>\n",
       "    .dataframe tbody tr th:only-of-type {\n",
       "        vertical-align: middle;\n",
       "    }\n",
       "\n",
       "    .dataframe tbody tr th {\n",
       "        vertical-align: top;\n",
       "    }\n",
       "\n",
       "    .dataframe thead th {\n",
       "        text-align: right;\n",
       "    }\n",
       "</style>\n",
       "<table border=\"1\" class=\"dataframe\">\n",
       "  <thead>\n",
       "    <tr style=\"text-align: right;\">\n",
       "      <th></th>\n",
       "      <th>TPs</th>\n",
       "      <th>FNs</th>\n",
       "      <th>TNs</th>\n",
       "      <th>FPs</th>\n",
       "      <th>Recall</th>\n",
       "      <th>Specificity</th>\n",
       "      <th>Accuracy</th>\n",
       "      <th>Precision</th>\n",
       "      <th>Neg_Pred_value</th>\n",
       "      <th>F1_Score</th>\n",
       "    </tr>\n",
       "  </thead>\n",
       "  <tbody>\n",
       "    <tr>\n",
       "      <th>Logistic Regression</th>\n",
       "      <td>43</td>\n",
       "      <td>106</td>\n",
       "      <td>1318</td>\n",
       "      <td>33</td>\n",
       "      <td>0.288591</td>\n",
       "      <td>0.975574</td>\n",
       "      <td>0.907333</td>\n",
       "      <td>0.565789</td>\n",
       "      <td>0.925562</td>\n",
       "      <td>0.382222</td>\n",
       "    </tr>\n",
       "    <tr>\n",
       "      <th>Naive Bayes</th>\n",
       "      <td>85</td>\n",
       "      <td>64</td>\n",
       "      <td>1241</td>\n",
       "      <td>110</td>\n",
       "      <td>0.570470</td>\n",
       "      <td>0.918579</td>\n",
       "      <td>0.884000</td>\n",
       "      <td>0.435897</td>\n",
       "      <td>0.950958</td>\n",
       "      <td>0.494186</td>\n",
       "    </tr>\n",
       "    <tr>\n",
       "      <th>KNN</th>\n",
       "      <td>5</td>\n",
       "      <td>144</td>\n",
       "      <td>1349</td>\n",
       "      <td>2</td>\n",
       "      <td>0.033557</td>\n",
       "      <td>0.998520</td>\n",
       "      <td>0.902667</td>\n",
       "      <td>0.714286</td>\n",
       "      <td>0.903550</td>\n",
       "      <td>0.064103</td>\n",
       "    </tr>\n",
       "  </tbody>\n",
       "</table>\n",
       "</div>"
      ],
      "text/plain": [
       "                     TPs  FNs   TNs  FPs    Recall  Specificity  Accuracy  \\\n",
       "Logistic Regression   43  106  1318   33  0.288591     0.975574  0.907333   \n",
       "Naive Bayes           85   64  1241  110  0.570470     0.918579  0.884000   \n",
       "KNN                    5  144  1349    2  0.033557     0.998520  0.902667   \n",
       "\n",
       "                     Precision  Neg_Pred_value  F1_Score  \n",
       "Logistic Regression   0.565789        0.925562  0.382222  \n",
       "Naive Bayes           0.435897        0.950958  0.494186  \n",
       "KNN                   0.714286        0.903550  0.064103  "
      ]
     },
     "execution_count": 34,
     "metadata": {},
     "output_type": "execute_result"
    }
   ],
   "source": [
    "df1"
   ]
  },
  {
   "cell_type": "markdown",
   "metadata": {},
   "source": [
    "<span style=\"color:blue; font-weight:bold;\">1. Note that total number of Positives(149) and Negatives(1351) are same for all three models.<span>\n",
    "\n",
    "<span style=\"color:purple; font-weight:bold;\">2. LR  Model is able to classify 97.5% of the Negative values correctly.<span>\n",
    "    \n",
    "<span style=\"color:purple; font-weight:bold;\">   NB  Model is able to classify 91.8% of the Negative values correctly.<span>\n",
    "    \n",
    "<span style=\"color:purple; font-weight:bold;\">   KNN Model is able to classify 99.8% of the Negative values correctly.<span>\n",
    "\n",
    "\n",
    "<span style=\"color:green; font-weight:bold;\">3. LR  Model is able to classify 28.8% of the Positive values correctly.<span>\n",
    "    \n",
    "<span style=\"color:green; font-weight:bold;\">   NB  Model is able to classify 57.0% of the Positive values correctly.<span>\n",
    "    \n",
    "<span style=\"color:green; font-weight:bold;\">   KNN Model is able to classify 3.35% of the Positive values correctly.<span>"
   ]
  },
  {
   "cell_type": "markdown",
   "metadata": {},
   "source": [
    "<span style=\"color:red; font-weight:bold; font-size:2em\">Final Conclusion :-<span>\n",
    "\n",
    "<span style=\"color:red; font-weight:bold;\">KNN has the highest accuracy of classifying Negative Values correctly.<span>\n",
    "<span style=\"color:red; font-weight:bold;\">KNN has the lowest FPs values as compared to other two models.<span>\n",
    "<span style=\"color:red; font-weight:bold;\">On the other side, KNN also has the highest value for False Negative Values.<span>\n",
    "<span style=\"color:red; font-weight:bold;\">But as discussed above, we can afford to be wrong on False Negative side.<span>\n",
    "<span style=\"color:red; font-weight:bold;\">We cannot afford to be wrong on False Postive side.\n",
    "<span style=\"color:red; font-weight:bold;\">Also, the test accuracy of KNN is comparable with other two models.<span>\n",
    "\n",
    "<span style=\"color:red; font-weight:bold;\">So, out of all the three models we select KNN as the best model.<span>"
   ]
  },
  {
   "cell_type": "code",
   "execution_count": null,
   "metadata": {},
   "outputs": [],
   "source": []
  }
 ],
 "metadata": {
  "kernelspec": {
   "display_name": "Python 3",
   "language": "python",
   "name": "python3"
  },
  "language_info": {
   "codemirror_mode": {
    "name": "ipython",
    "version": 3
   },
   "file_extension": ".py",
   "mimetype": "text/x-python",
   "name": "python",
   "nbconvert_exporter": "python",
   "pygments_lexer": "ipython3",
   "version": "3.7.7"
  }
 },
 "nbformat": 4,
 "nbformat_minor": 4
}
